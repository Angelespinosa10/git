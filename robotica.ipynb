{
  "nbformat": 4,
  "nbformat_minor": 0,
  "metadata": {
    "colab": {
      "provenance": [],
      "authorship_tag": "ABX9TyMBrIlPIJkrze9TpDYPZjrM",
      "include_colab_link": true
    },
    "kernelspec": {
      "name": "python3",
      "display_name": "Python 3"
    },
    "language_info": {
      "name": "python"
    }
  },
  "cells": [
    {
      "cell_type": "markdown",
      "metadata": {
        "id": "view-in-github",
        "colab_type": "text"
      },
      "source": [
        "<a href=\"https://colab.research.google.com/github/Angelespinosa10/git/blob/main/robotica.ipynb\" target=\"_parent\"><img src=\"https://colab.research.google.com/assets/colab-badge.svg\" alt=\"Open In Colab\"/></a>"
      ]
    },
    {
      "cell_type": "code",
      "execution_count": null,
      "metadata": {
        "id": "KHQOY6qRpde5"
      },
      "outputs": [],
      "source": [
        "import matplotlib.pyplot as plt\n",
        "import numpy as np\n",
        "\n",
        "class Escena:\n",
        "    def __init__(self, ancho, alto, color_rectangulo):\n",
        "        self.ancho = ancho\n",
        "        self.alto = alto\n",
        "        self.color_rectangulo = color_rectangulo\n",
        "        self.puntos = []\n",
        "\n",
        "    def crear_escena(self, n_puntos):\n",
        "        # Para crear rectángulos de fondo\n",
        "        self.rectangulo = plt.Rectangle((0, 0), self.ancho, self.alto, color=self.color_rectangulo)\n",
        "\n",
        "        # Para generar n puntos dentro del rectángulo que sean aleatorios\n",
        "        self.puntos = np.random.rand(n_puntos, 2) * [self.ancho, self.alto]\n",
        "\n",
        "    def cambiar_escena(self, nuevo_ancho, nuevo_alto, nuevo_color):\n",
        "        self.ancho = nuevo_ancho\n",
        "        self.alto = nuevo_alto\n",
        "        self.color_rectangulo = nuevo_color\n",
        "\n",
        "    def dibujar_escena(self):\n",
        "        fig, ax = plt.subplots()\n",
        "        ax.add_patch(self.rectangulo)\n",
        "        ax.scatter(self.puntos[:, 0], self.puntos[:, 1], color='red')\n",
        "        plt.xlim(-10, self.ancho + 10)\n",
        "        plt.ylim(-10, self.alto + 10)\n",
        "        plt.gca().set_aspect('equal', adjustable='box')\n",
        "        plt.show()\n",
        "\n",
        "    def desplazar_puntos(self, direccion, valor):\n",
        "        if direccion == 'derecha':\n",
        "            self.puntos[:, 0] += valor\n",
        "        elif direccion == 'izquierda':\n",
        "            self.puntos[:, 0] -= valor\n",
        "        elif direccion == 'arriba':\n",
        "            self.puntos[:, 1] += valor\n",
        "        elif direccion == 'abajo':\n",
        "            self.puntos[:, 1] -= valor\n",
        "\n",
        "    def simular(self, velocidad, direccion):\n",
        "        if direccion == 'derecha':\n",
        "            desplazamiento = np.array([velocidad, 0])\n",
        "        elif direccion == 'izquierda':\n",
        "            desplazamiento = np.array([-velocidad, 0])\n",
        "        elif direccion == 'arriba':\n",
        "            desplazamiento = np.array([0, velocidad])\n",
        "        elif direccion == 'abajo':\n",
        "            desplazamiento = np.array([0, -velocidad])\n",
        "\n",
        "        for _ in range(10):  # Simular durante 10 pasos\n",
        "            self.puntos += desplazamiento\n",
        "            self.dibujar_escena()"
      ]
    }
  ]
}